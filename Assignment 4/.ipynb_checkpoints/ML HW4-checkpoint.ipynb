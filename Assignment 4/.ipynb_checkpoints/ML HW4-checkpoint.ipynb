{
 "cells": [
  {
   "cell_type": "code",
   "execution_count": null,
   "metadata": {},
   "outputs": [],
   "source": [
    "import pandas as pd\n",
    "import numpy as np\n",
    "import math \n",
    "from sklearn import preprocessing\n",
    "from sklearn.preprocessing import StandardScaler\n",
    "from sklearn.neighbors.nearest_centroid import NearestCentroid\n",
    "from sklearn import metrics\n",
    "from sklearn.cluster import KMeans\n",
    "import matplotlib.pyplot as plt\n",
    "from mpl_toolkits.mplot3d import Axes3D\n",
    "import matplotlib.pyplot as plt\n",
    "pd.options.mode.chained_assignment = None \n",
    "from yellowbrick.cluster import KElbowVisualizer"
   ]
  },
  {
   "cell_type": "markdown",
   "metadata": {},
   "source": [
    "# Question 1"
   ]
  },
  {
   "cell_type": "code",
   "execution_count": null,
   "metadata": {},
   "outputs": [],
   "source": [
    "# Read the data set, normalise the gender column, drop the ID column(not necessary for cluster)\n",
    "customer = pd.read_csv(\"customers.csv\")\n",
    "customer[\"gender\"] = np.where(customer['Gender']==\"Female\", 1, 0)\n",
    "customer.drop(['ID', 'Gender'], axis = 1, inplace=True)\n",
    "customer.head()"
   ]
  },
  {
   "cell_type": "code",
   "execution_count": null,
   "metadata": {},
   "outputs": [],
   "source": [
    "# Apply a Z-score normalisation on the numerical features (age, income and score)\n",
    "def normalisation(input_data):\n",
    "    data_normalised = preprocessing.scale(input_data) #Scaling the dataset\n",
    "    data_normalised = pd.DataFrame(data=data_normalised,columns = list(input_data.columns))\n",
    "    data_normalised['gender'] = input_data['gender']\n",
    "    return data_normalised\n",
    "customer_normalised= normalisation(customer)\n",
    "customer_normalised.head()"
   ]
  },
  {
   "cell_type": "markdown",
   "metadata": {},
   "source": [
    "# Question 2"
   ]
  },
  {
   "cell_type": "code",
   "execution_count": null,
   "metadata": {},
   "outputs": [],
   "source": [
    "# Draw the plot of SSE verus the number of clusters\n",
    "sse = []\n",
    "customer_normalised_minus_gender = customer_normalised.drop(columns=['gender'])\n",
    "for k in range(2, 11):\n",
    "    kmeans = KMeans(n_clusters=k)\n",
    "    kmeans.fit(customer_normalised)\n",
    "    sse.append(kmeans.inertia_)\n",
    "\n",
    "plt.plot(range(2,11),sse, marker =\"8\")\n",
    "plt.title('SSE verus the number of clusters')\n",
    "plt.xlabel('Number of Clusters')\n",
    "plt.ylabel('SSE')\n",
    "plt.show()"
   ]
  },
  {
   "cell_type": "code",
   "execution_count": null,
   "metadata": {},
   "outputs": [],
   "source": [
    "# Use elbow chart to find the best k.\n",
    "model = KMeans()\n",
    "visualizer = KElbowVisualizer(model, k=(2,11))\n",
    "visualizer.fit(customer_normalised)      \n",
    "visualizer.show()"
   ]
  },
  {
   "cell_type": "markdown",
   "metadata": {},
   "source": [
    "#### Heuristics-Elbow chart: From the elbow method, the optimal k is k=5"
   ]
  },
  {
   "cell_type": "markdown",
   "metadata": {},
   "source": [
    "# Question 3"
   ]
  },
  {
   "cell_type": "code",
   "execution_count": null,
   "metadata": {},
   "outputs": [],
   "source": [
    "# Cluster the samples (Age, Income, Score) using K-means with the best k.\n",
    "km = KMeans(n_clusters=5)\n",
    "clusters = km.fit_predict(customer_normalised_minus_gender)\n",
    "customer[\"label\"] = clusters\n",
    "customer.head()"
   ]
  },
  {
   "cell_type": "code",
   "execution_count": null,
   "metadata": {},
   "outputs": [],
   "source": [
    "# Calculate the centroid of each clusters\n",
    "clf = NearestCentroid()\n",
    "X=customer.iloc[:,0:-2]\n",
    "y=customer.label\n",
    "clf.fit(X, y)\n",
    "centers = clf.centroids_\n",
    "centers_x = centers[:,0]\n",
    "centers_y = centers[:,1]\n",
    "centers_z = centers[:,2]"
   ]
  },
  {
   "cell_type": "code",
   "execution_count": null,
   "metadata": {},
   "outputs": [],
   "source": [
    "# Plot the clusters and centroids in 3D\n",
    "fig = plt.figure(figsize=(20,10))\n",
    "ax = fig.add_subplot(111, projection='3d')\n",
    "ax.scatter(customer.Age[customer.label == 0], customer[\"Income\"][customer.label == 0], customer[\"Score\"][customer.label == 0], c='blue', s=60)\n",
    "ax.scatter(customer.Age[customer.label == 1], customer[\"Income\"][customer.label == 1], customer[\"Score\"][customer.label == 1], c='red', s=60)\n",
    "ax.scatter(customer.Age[customer.label == 2], customer[\"Income\"][customer.label == 2], customer[\"Score\"][customer.label == 2], c='black', s=60)\n",
    "ax.scatter(customer.Age[customer.label == 3], customer[\"Income\"][customer.label == 3], customer[\"Score\"][customer.label == 3], c='orange', s=60)\n",
    "ax.scatter(customer.Age[customer.label == 4], customer[\"Income\"][customer.label == 4], customer[\"Score\"][customer.label == 4], c='purple', s=60)\n",
    "ax.scatter(centers_x,centers_y,centers_z,marker = \"x\",s=200,c=['blue','red','black','orange','purple'])\n",
    "ax.view_init(30, 185)\n",
    "plt.xlabel(\"Age\")\n",
    "plt.ylabel(\"Income\")\n",
    "ax.set_zlabel('Score')\n",
    "plt.show()"
   ]
  },
  {
   "cell_type": "code",
   "execution_count": null,
   "metadata": {},
   "outputs": [],
   "source": [
    "# Draw the clusters in three 2d plots\n",
    "f, ax = plt.subplots(1,3,figsize=(15,5))\n",
    "ax[0].set_title(\"Age vs Income\")\n",
    "ax[0].scatter(customer.Age[customer.label == 0], customer.Income[customer.label == 0], c='blue', s=60)\n",
    "ax[0].scatter(customer.Age[customer.label == 1], customer.Income[customer.label == 1], c='red', s=60)\n",
    "ax[0].scatter(customer.Age[customer.label == 2], customer.Income[customer.label == 2], c='black', s=60)\n",
    "ax[0].scatter(customer.Age[customer.label == 3], customer.Income[customer.label == 3], c='orange', s=60)\n",
    "ax[0].scatter(customer.Age[customer.label == 4], customer.Income[customer.label == 4], c='purple', s=60)\n",
    "ax[0].scatter(centers_x,centers_y,marker = \"x\",s=200,c=['blue','red','black','orange','purple'])\n",
    "\n",
    "ax[1].set_title(\"Age vs Score\")\n",
    "ax[1].scatter(customer.Age[customer.label == 0], customer.Score[customer.label == 0], c='blue', s=60)\n",
    "ax[1].scatter(customer.Age[customer.label == 1], customer.Score[customer.label == 1], c='red', s=60)\n",
    "ax[1].scatter(customer.Age[customer.label == 2], customer.Score[customer.label == 2], c='black', s=60)\n",
    "ax[1].scatter(customer.Age[customer.label == 3], customer.Score[customer.label == 3], c='orange', s=60)\n",
    "ax[1].scatter(customer.Age[customer.label == 4], customer.Score[customer.label == 4], c='purple', s=60)\n",
    "ax[1].scatter(centers_x,centers_z,marker = \"x\",s=200,c=['blue','red','black','orange','purple'])\n",
    "\n",
    "\n",
    "ax[2].set_title(\"Score vs Income\")\n",
    "ax[2].scatter(customer.Score[customer.label == 0], customer.Income[customer.label == 0], c='blue', s=60)\n",
    "ax[2].scatter(customer.Score[customer.label == 1], customer.Income[customer.label == 1], c='red', s=60)\n",
    "ax[2].scatter(customer.Score[customer.label == 2], customer.Income[customer.label == 2], c='black', s=60)\n",
    "ax[2].scatter(customer.Score[customer.label == 3], customer.Income[customer.label == 3], c='orange', s=60)\n",
    "ax[2].scatter(customer.Score[customer.label == 4], customer.Income[customer.label == 4], c='purple', s=60)\n",
    "ax[2].scatter(centers_z,centers_y,marker = \"x\",s=200,c=['blue','red','black','orange','purple'])\n",
    "\n",
    "fig.tight_layout()"
   ]
  },
  {
   "cell_type": "markdown",
   "metadata": {},
   "source": [
    "# Question 4"
   ]
  },
  {
   "cell_type": "code",
   "execution_count": null,
   "metadata": {},
   "outputs": [],
   "source": [
    "# Create three different datasets,(age,income), (age, score), (income, score).\n",
    "customer_normalised_age_income = customer_normalised_minus_gender[['Age','Income']]\n",
    "customer_normalised_score_income = customer_normalised_minus_gender[['Score','Income']]\n",
    "customer_normalised_score_age = customer_normalised_minus_gender[['Score','Age']]"
   ]
  },
  {
   "cell_type": "code",
   "execution_count": null,
   "metadata": {},
   "outputs": [],
   "source": [
    "# Use elbow chart to find the best numbers of cluster for age and income.\n",
    "model = KMeans()\n",
    "visualizer = KElbowVisualizer(model, k=(2,11))\n",
    "visualizer.fit(customer_normalised_age_income)      \n",
    "visualizer.show()"
   ]
  },
  {
   "cell_type": "code",
   "execution_count": null,
   "metadata": {},
   "outputs": [],
   "source": [
    "# Use elbow chart to find the best numbers of cluster for score and income.\n",
    "model = KMeans()\n",
    "visualizer = KElbowVisualizer(model, k=(2,11))\n",
    "visualizer.fit(customer_normalised_score_income)      \n",
    "visualizer.show()"
   ]
  },
  {
   "cell_type": "code",
   "execution_count": null,
   "metadata": {},
   "outputs": [],
   "source": [
    "# Use elbow chart to find the best numbers of cluster for score and age.\n",
    "model = KMeans()\n",
    "visualizer = KElbowVisualizer(model, k=(2,11))\n",
    "visualizer.fit(customer_normalised_score_age)      \n",
    "visualizer.show()"
   ]
  },
  {
   "cell_type": "code",
   "execution_count": null,
   "metadata": {},
   "outputs": [],
   "source": [
    "best_k_age_income = 4\n",
    "best_k_score_income = 5\n",
    "best_k_score_age = 4"
   ]
  },
  {
   "cell_type": "markdown",
   "metadata": {},
   "source": [
    "# Question 5"
   ]
  },
  {
   "cell_type": "code",
   "execution_count": null,
   "metadata": {},
   "outputs": [],
   "source": [
    "# Plot the clusters and distinguish the data points based on the 'Gender' categorical feature.\n",
    "def return_customer_centroids(factors,n_clusters,customer_dataset = customer,customer_normalised_dataset=customer_normalised):\n",
    "    customer_part = customer_dataset[factors]\n",
    "    customer_normalised_part = customer_normalised[factors]\n",
    "    km = KMeans(n_clusters)\n",
    "    clusters = km.fit_predict(customer_normalised_part)\n",
    "    customer_part[\"label\"] = clusters\n",
    "    customer_part_male = customer_part.loc[customer_part.gender == 0]\n",
    "    customer_part_female = customer_part.loc[customer_part.gender == 1]\n",
    "    return customer_part_male,customer_part_female\n",
    "\n",
    "factors_Age_Income = ['Age','Income','gender']\n",
    "factors_Score_Income = ['Score','Income','gender']\n",
    "factors_Age_Score = ['Age','Score','gender']\n",
    "\n",
    "customer_Age_Income_Male,customer_Age_Income_Female = return_customer_centroids(factors_Age_Income,best_k_age_income)\n",
    "customer_Score_Income_Male,customer_Score_Income_Female = return_customer_centroids(factors_Score_Income,best_k_score_income)\n",
    "customer_Age_Score_Male,customer_Age_Score_Female = return_customer_centroids(factors_Age_Score,best_k_score_age)"
   ]
  },
  {
   "cell_type": "code",
   "execution_count": null,
   "metadata": {},
   "outputs": [],
   "source": [
    "# Draw the clusters in three 2d plots\n",
    "f, ax = plt.subplots(1,3,figsize=(15,5))\n",
    "ax[0].set_title(\"Age vs Income\")\n",
    "ax[0].scatter(customer_Age_Income_Male.Age[customer_Age_Income_Male.label == 0], customer_Age_Income_Male.Income[customer_Age_Income_Male.label == 0],marker ='+', c='blue', s=60, label='Male')\n",
    "ax[0].scatter(customer_Age_Income_Male.Age[customer_Age_Income_Male.label == 1], customer_Age_Income_Male.Income[customer_Age_Income_Male.label == 1],marker ='+', c='red', s=60)\n",
    "ax[0].scatter(customer_Age_Income_Male.Age[customer_Age_Income_Male.label == 2], customer_Age_Income_Male.Income[customer_Age_Income_Male.label == 2],marker ='+', c='black', s=60)\n",
    "ax[0].scatter(customer_Age_Income_Male.Age[customer_Age_Income_Male.label == 3], customer_Age_Income_Male.Income[customer_Age_Income_Male.label == 3],marker ='+', c='orange', s=60)\n",
    "ax[0].scatter(customer_Age_Income_Female.Age[customer_Age_Income_Female.label == 0], customer_Age_Income_Female.Income[customer_Age_Income_Female.label == 0],marker ='8', c='blue', s=60,label='Female')\n",
    "ax[0].scatter(customer_Age_Income_Female.Age[customer_Age_Income_Female.label == 1], customer_Age_Income_Female.Income[customer_Age_Income_Female.label == 1],marker ='8', c='red', s=60)\n",
    "ax[0].scatter(customer_Age_Income_Female.Age[customer_Age_Income_Female.label == 2], customer_Age_Income_Female.Income[customer_Age_Income_Female.label == 2],marker ='8', c='black', s=60)\n",
    "ax[0].scatter(customer_Age_Income_Female.Age[customer_Age_Income_Female.label == 3], customer_Age_Income_Female.Income[customer_Age_Income_Female.label == 3],marker ='8', c='orange', s=60)\n",
    "ax[0].legend()\n",
    "\n",
    "ax[1].set_title(\"Score vs Income\")\n",
    "ax[1].scatter(customer_Score_Income_Male.Score[customer_Score_Income_Male.label == 0], customer_Score_Income_Male.Income[customer_Score_Income_Male.label == 0],marker ='+', c='blue', s=60, label='Male')\n",
    "ax[1].scatter(customer_Score_Income_Male.Score[customer_Score_Income_Male.label == 1], customer_Score_Income_Male.Income[customer_Score_Income_Male.label == 1],marker ='+', c='red', s=60)\n",
    "ax[1].scatter(customer_Score_Income_Male.Score[customer_Score_Income_Male.label == 2], customer_Score_Income_Male.Income[customer_Score_Income_Male.label == 2],marker ='+', c='black', s=60)\n",
    "ax[1].scatter(customer_Score_Income_Male.Score[customer_Score_Income_Male.label == 3], customer_Score_Income_Male.Income[customer_Score_Income_Male.label == 3],marker ='+', c='orange', s=60)\n",
    "ax[1].scatter(customer_Score_Income_Male.Score[customer_Score_Income_Male.label == 4], customer_Score_Income_Male.Income[customer_Score_Income_Male.label == 4],marker ='+', c='purple', s=60)\n",
    "ax[1].scatter(customer_Score_Income_Female.Score[customer_Score_Income_Female.label == 0], customer_Score_Income_Female.Income[customer_Score_Income_Female.label == 0],marker ='8', c='blue', s=60,label='Female')\n",
    "ax[1].scatter(customer_Score_Income_Female.Score[customer_Score_Income_Female.label == 1], customer_Score_Income_Female.Income[customer_Score_Income_Female.label == 1],marker ='8', c='red', s=60)\n",
    "ax[1].scatter(customer_Score_Income_Female.Score[customer_Score_Income_Female.label == 2], customer_Score_Income_Female.Income[customer_Score_Income_Female.label == 2],marker ='8', c='black', s=60)\n",
    "ax[1].scatter(customer_Score_Income_Female.Score[customer_Score_Income_Female.label == 3], customer_Score_Income_Female.Income[customer_Score_Income_Female.label == 3],marker ='8', c='orange', s=60)\n",
    "ax[1].scatter(customer_Score_Income_Female.Score[customer_Score_Income_Female.label == 4], customer_Score_Income_Female.Income[customer_Score_Income_Female.label == 4],marker ='8', c='purple', s=60)\n",
    "ax[1].legend()\n",
    "\n",
    "ax[2].set_title(\"Age vs Score\")\n",
    "ax[2].scatter(customer_Age_Score_Male.Age[customer_Age_Score_Male.label == 0], customer_Age_Score_Male.Score[customer_Age_Score_Male.label == 0],marker ='+', c='blue', s=60, label='Male')\n",
    "ax[2].scatter(customer_Age_Score_Male.Age[customer_Age_Score_Male.label == 1], customer_Age_Score_Male.Score[customer_Age_Score_Male.label == 1],marker ='+', c='red', s=60)\n",
    "ax[2].scatter(customer_Age_Score_Male.Age[customer_Age_Score_Male.label == 2], customer_Age_Score_Male.Score[customer_Age_Score_Male.label == 2],marker ='+', c='black', s=60)\n",
    "ax[2].scatter(customer_Age_Score_Male.Age[customer_Age_Score_Male.label == 3], customer_Age_Score_Male.Score[customer_Age_Score_Male.label == 3],marker ='+', c='orange', s=60)\n",
    "ax[2].scatter(customer_Age_Score_Female.Age[customer_Age_Score_Female.label == 0], customer_Age_Score_Female.Score[customer_Age_Score_Female.label == 0],marker ='8', c='blue', s=60,label='Female')\n",
    "ax[2].scatter(customer_Age_Score_Female.Age[customer_Age_Score_Female.label == 1], customer_Age_Score_Female.Score[customer_Age_Score_Female.label == 1],marker ='8', c='red', s=60)\n",
    "ax[2].scatter(customer_Age_Score_Female.Age[customer_Age_Score_Female.label == 2], customer_Age_Score_Female.Score[customer_Age_Score_Female.label == 2],marker ='8', c='black', s=60)\n",
    "ax[2].scatter(customer_Age_Score_Female.Age[customer_Age_Score_Female.label == 3], customer_Age_Score_Female.Score[customer_Age_Score_Female.label == 3],marker ='8', c='orange', s=60)\n",
    "ax[2].legend()\n",
    "\n",
    "fig.tight_layout()"
   ]
  }
 ],
 "metadata": {
  "kernelspec": {
   "display_name": "Python 3",
   "language": "python",
   "name": "python3"
  },
  "language_info": {
   "codemirror_mode": {
    "name": "ipython",
    "version": 3
   },
   "file_extension": ".py",
   "mimetype": "text/x-python",
   "name": "python",
   "nbconvert_exporter": "python",
   "pygments_lexer": "ipython3",
   "version": "3.8.5"
  }
 },
 "nbformat": 4,
 "nbformat_minor": 5
}
