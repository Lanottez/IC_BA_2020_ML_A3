{
 "cells": [
  {
   "cell_type": "code",
   "execution_count": 5,
   "metadata": {},
   "outputs": [],
   "source": [
    "import pandas as pd\n",
    "import numpy as np\n",
    "import math \n",
    "from sklearn import preprocessing\n",
    "\n",
    "from sklearn.preprocessing import StandardScaler\n",
    "from sklearn.neighbors import KNeighborsClassifier\n",
    "from sklearn import metrics\n",
    "import matplotlib.pyplot as plt\n",
    "import seaborn as sns"
   ]
  },
  {
   "cell_type": "code",
   "execution_count": 6,
   "metadata": {},
   "outputs": [],
   "source": [
    "#Question 1\n",
    "\n",
    "data_path = \"./\"\n",
    "\n",
    "# 1. loads the data file;\n",
    "training_data = pd.read_csv(data_path + 'training.csv') \n",
    "validation_data = pd.read_csv(data_path + 'validation.csv')\n",
    "test1_data = pd.read_csv(data_path + 'test1.csv') \n",
    "test2_data = pd.read_csv(data_path + 'test2.csv') \n",
    "\n",
    "# 2. load txt file\n",
    "text_file = open('censored_list_test1.txt', 'r')\n",
    "list_censored_test1 = text_file.read().split()\n",
    "text_file.close()\n",
    "\n",
    "text_file = open('censored_list_test2.txt', 'r')\n",
    "list_censored_test2 = text_file.read().split()\n",
    "text_file.close()"
   ]
  },
  {
   "cell_type": "code",
   "execution_count": 7,
   "metadata": {},
   "outputs": [
    {
     "name": "stderr",
     "output_type": "stream",
     "text": [
      "<ipython-input-7-6ef78ecaf35c>:7: FutureWarning: The default value of regex will change from True to False in a future version.\n",
      "  col= col.str.replace('\\d+', ' ')\n",
      "<ipython-input-7-6ef78ecaf35c>:9: FutureWarning: The default value of regex will change from True to False in a future version.\n",
      "  col = col.str.replace('[^\\w\\s]',' ')\n"
     ]
    }
   ],
   "source": [
    "#Question 2\n",
    "\n",
    "def cleaning_sms(col):\n",
    "    # convert to lower-case\n",
    "    col = col.str.lower()\n",
    "    #remove digits\n",
    "    col= col.str.replace('\\d+', ' ')\n",
    "    #remove punctuation\n",
    "    col = col.str.replace('[^\\w\\s]',' ')\n",
    "    return col\n",
    "\n",
    "training_data[\"sms\"] = cleaning_sms(training_data[\"sms\"])\n",
    "validation_data[\"sms\"] = cleaning_sms(validation_data[\"sms\"])\n",
    "test1_data[\"sms\"]= cleaning_sms(test1_data[\"sms\"])\n",
    "test2_data[\"sms\"] = cleaning_sms(test2_data[\"sms\"])"
   ]
  },
  {
   "cell_type": "code",
   "execution_count": null,
   "metadata": {},
   "outputs": [],
   "source": [
    "#Question 3\n",
    "\n",
    "class NaiveBayesForSpam:\n",
    "#These two functions trains the  Naive Bayes classifier, i.e get the labeled SMS(messages for which we know whether they're spam or ham), \n",
    "#iterate over each individual message and identify\n",
    "\n",
    "    def train (self, hamMessages, spamMessages):\n",
    "        self.words = set (' '.join (hamMessages + spamMessages).split())\n",
    "        self.priors = np.zeros (2)\n",
    "        self.priors[0] = float (len (hamMessages)) / (len (hamMessages) + len (spamMessages))\n",
    "        self.priors[1] = 1.0 - self.priors[0]\n",
    "        self.likelihoods = []\n",
    "        for i, w in enumerate (self.words):\n",
    "            prob1 = (1.0 + len ([m for m in hamMessages if w in m])) / len (hamMessages)\n",
    "            prob2 = (1.0 + len ([m for m in spamMessages if w in m])) / len (spamMessages)\n",
    "            self.likelihoods.append ([min (prob1, 0.95), min (prob2, 0.95)])\n",
    "        self.likelihoods = np.array (self.likelihoods).T\n",
    "        \n",
    "    def train2 (self, hamMessages, spamMessages):\n",
    "        self.words = set (' '.join (hamMessages + spamMessages).split())\n",
    "        self.priors = np.zeros (2)\n",
    "        self.priors[0] = float (len (hamMessages)) / (len (hamMessages) + len (spamMessages))\n",
    "        self.priors[1] = 1.0 - self.priors[0]\n",
    "        self.likelihoods = []\n",
    "        spamkeywords = []\n",
    "        for i, w in enumerate (self.words):\n",
    "            prob1 = (1.0 + len ([m for m in hamMessages if w in m])) / len (hamMessages)\n",
    "            prob2 = (1.0 + len ([m for m in spamMessages if w in m])) / len (spamMessages)\n",
    "            if prob1 * 20 < prob2:\n",
    "                self.likelihoods.append ([min (prob1, 0.95), min (prob2, 0.95)])\n",
    "                spamkeywords.append (w)\n",
    "        self.words = spamkeywords\n",
    "        self.likelihoods = np.array (self.likelihoods).T\n",
    "\n",
    "#Returning predictions, bayes's theorem is applied in this function \n",
    "    def predict (self, message):\n",
    "        posteriors = np.copy (self.priors)\n",
    "        for i, w in enumerate (self.words):\n",
    "            if w in message.lower():  # convert to lower-case\n",
    "                posteriors *= self.likelihoods[:,i]\n",
    "            else:                                   \n",
    "                posteriors *= np.ones (2) - self.likelihoods[:,i]\n",
    "            posteriors = posteriors / np.linalg.norm (posteriors)  # normalise\n",
    "        if posteriors[0] > 0.5:\n",
    "            return ['ham', posteriors[0]]\n",
    "        return ['spam', posteriors[1]]    \n",
    "\n",
    "#Calcauting accuracy score and confusion matrix of the classifiers\n",
    "    def score (self, messages, labels):\n",
    "        ## | TP | FP |\n",
    "        ## | FN | TN |\n",
    "        confusion = np.zeros(4).reshape (2,2)\n",
    "        for m, l in zip (messages, labels):\n",
    "            if self.predict(m)[0] == 'ham' and l == 'ham':\n",
    "                confusion[0,0] += 1\n",
    "            elif self.predict(m)[0] == 'ham' and l == 'spam':\n",
    "                confusion[0,1] += 1\n",
    "            elif self.predict(m)[0] == 'spam' and l == 'ham':\n",
    "                confusion[1,0] += 1\n",
    "            elif self.predict(m)[0] == 'spam' and l == 'spam':\n",
    "                confusion[1,1] += 1\n",
    "        return (confusion[0,0] + confusion[1,1]) / float (confusion.sum()), confusion"
   ]
  },
  {
   "cell_type": "markdown",
   "metadata": {},
   "source": [
    "### Question 4\n",
    "\n",
    "#### The functions  above are used to calculate prior probability based on Bayes theorem\n",
    "__train function__ \n",
    "* creates a set of all the words present in the spam and ham messages\n",
    "* calculates the frequency with each word is present in a sentence, this frequency represents the ratio of the times a spam/ham message contains such words. It is noted that this ratio is restricted to be lower than 0.95\n",
    "\n",
    "__train2 function__\n",
    " the function performs the same procedures as train 1 with the following differences\n",
    "* In train2 function a new list is generated named \"spamkeywords\", which contains letters with high probability to appear in spamMessage, actually those that appear more than 20 times more often in spam than in ham messages\n",
    "* Also, the prior probability(likelihood function) only contains the letters with high probability\n",
    "\n",
    "__predict function__\n",
    "* Initially all the words in message are converted to lower case \n",
    "* Then the function uses the naives bayes method to calculate the posterior probability as a proportion of likelihood and prior probability\n",
    "* After performing a normalisation, to deal with computational issues, the message is categorised as  spam or ham according to the value of the posterior probability calculated\n",
    "\n",
    "\n",
    "__score function__\n",
    "* The function aggregates the number the messages based on whether they have been categorised correctly or wrongly . Essentialy it calculates and returns the confusion matrix"
   ]
  },
  {
   "cell_type": "code",
   "execution_count": 8,
   "metadata": {},
   "outputs": [
    {
     "ename": "NameError",
     "evalue": "name 'NaiveBayesForSpam' is not defined",
     "output_type": "error",
     "traceback": [
      "\u001b[1;31m---------------------------------------------------------------------------\u001b[0m",
      "\u001b[1;31mNameError\u001b[0m                                 Traceback (most recent call last)",
      "\u001b[1;32m<ipython-input-8-19a9588c7eed>\u001b[0m in \u001b[0;36m<module>\u001b[1;34m\u001b[0m\n\u001b[0;32m      3\u001b[0m \u001b[0mtraining_spam\u001b[0m \u001b[1;33m=\u001b[0m \u001b[0mlist\u001b[0m\u001b[1;33m(\u001b[0m\u001b[0mtraining_data\u001b[0m\u001b[1;33m[\u001b[0m\u001b[0mtraining_data\u001b[0m\u001b[1;33m.\u001b[0m\u001b[0mlabel\u001b[0m \u001b[1;33m==\u001b[0m\u001b[1;34m'spam'\u001b[0m\u001b[1;33m]\u001b[0m\u001b[1;33m.\u001b[0m\u001b[0msms\u001b[0m\u001b[1;33m)\u001b[0m\u001b[1;33m\u001b[0m\u001b[1;33m\u001b[0m\u001b[0m\n\u001b[0;32m      4\u001b[0m \u001b[1;33m\u001b[0m\u001b[0m\n\u001b[1;32m----> 5\u001b[1;33m \u001b[0mnaive_bayes_training1\u001b[0m\u001b[1;33m=\u001b[0m\u001b[0mNaiveBayesForSpam\u001b[0m\u001b[1;33m(\u001b[0m\u001b[1;33m)\u001b[0m\u001b[1;33m\u001b[0m\u001b[1;33m\u001b[0m\u001b[0m\n\u001b[0m\u001b[0;32m      6\u001b[0m \u001b[0mnaive_bayes_training1\u001b[0m\u001b[1;33m.\u001b[0m\u001b[0mtrain\u001b[0m\u001b[1;33m(\u001b[0m\u001b[0mtraining_ham\u001b[0m\u001b[1;33m,\u001b[0m\u001b[0mtraining_spam\u001b[0m\u001b[1;33m)\u001b[0m\u001b[1;33m\u001b[0m\u001b[1;33m\u001b[0m\u001b[0m\n\u001b[0;32m      7\u001b[0m \u001b[1;33m\u001b[0m\u001b[0m\n",
      "\u001b[1;31mNameError\u001b[0m: name 'NaiveBayesForSpam' is not defined"
     ]
    }
   ],
   "source": [
    "#Question 5\n",
    "training_ham = list(training_data[training_data.label =='ham'].sms)\n",
    "training_spam = list(training_data[training_data.label =='spam'].sms)\n",
    "\n",
    "naive_bayes_training1=NaiveBayesForSpam()\n",
    "naive_bayes_training1.train(training_ham,training_spam)\n",
    "\n",
    "naive_bayes_training2=NaiveBayesForSpam()\n",
    "naive_bayes_training2.train2(training_ham,training_spam)"
   ]
  },
  {
   "cell_type": "code",
   "execution_count": null,
   "metadata": {},
   "outputs": [],
   "source": [
    "#Question 6\n",
    "confusion_matrix1 = naive_bayes_training1.score(validation_data.sms, validation_data.label)\n",
    "confusion_matrix2 = naive_bayes_training2.score(validation_data.sms, validation_data.label)\n",
    "\n",
    "confusion_matrix1[0], confusion_matrix2[1]"
   ]
  },
  {
   "cell_type": "markdown",
   "metadata": {},
   "source": [
    "# Question 7\n",
    "\n",
    "The train2 is faster because it uses far less words in order to calculate the posterior probability, consequently the list of words we are comparing eacg word in the validation set is way shorter and far less calculations are taking place, for example comparisons and multiplications. \n",
    "\n",
    "The train2 is more accurate because it uses words that are 20+ times more often present more in spam than in ham messages. Consequently it is more probable to be more important than the classifiers that are ignored. \n",
    "Those \"non-important\" classifier might be misleading as it may cause noise. \n",
    "## ???"
   ]
  },
  {
   "cell_type": "code",
   "execution_count": null,
   "metadata": {},
   "outputs": [],
   "source": [
    "#Q8\n",
    "false_positives2 = confusion_matrix2[1][0][1]\n",
    "false_positives2\n"
   ]
  },
  {
   "cell_type": "markdown",
   "metadata": {},
   "source": [
    "There are 35 false positives under when using the train2 function.\n",
    "\n",
    "In order to reduce the number of false positives at the expense of flase negatives we could decrease the limit at the threshold in the last part of  \"predict\" function at the line \"if posteriors[0] > 0.5:\" from 0.5 to a smaller number.\n"
   ]
  },
  {
   "cell_type": "markdown",
   "metadata": {},
   "source": [
    "# Q9\n",
    "We will ignore the missing variables when we predict the probability. Consequently this formula will become $P(Y = C_j | X_1 = x_1, ..., X_p = x_p) = P(Y = C_j | X_1 = x_1, ..., X_{j-1} = x_{j-1}, X_{k+1} = x_{k+1}, ..., X_p = x_p)$ \n",
    "\n",
    "# ???"
   ]
  },
  {
   "cell_type": "markdown",
   "metadata": {},
   "source": [
    "# Question 10"
   ]
  },
  {
   "cell_type": "code",
   "execution_count": 17,
   "metadata": {},
   "outputs": [],
   "source": [
    "#for list_censored_test1\n",
    "class NaiveBayesForSpam_updated_censored1:\n",
    "    #rewritten the class with changed the predict function:\n",
    "    def train (self, hamMessages, spamMessages):\n",
    "        self.words = set (' '.join (hamMessages + spamMessages).split())\n",
    "        self.priors = np.zeros (2)\n",
    "        self.priors[0] = float (len (hamMessages)) / (len (hamMessages) + len (spamMessages))\n",
    "        self.priors[1] = 1.0 - self.priors[0]\n",
    "        self.likelihoods = []\n",
    "        for i, w in enumerate (self.words):\n",
    "            prob1 = (1.0 + len ([m for m in hamMessages if w in m])) / len (hamMessages)\n",
    "            prob2 = (1.0 + len ([m for m in spamMessages if w in m])) / len (spamMessages)\n",
    "            self.likelihoods.append ([min (prob1, 0.95), min (prob2, 0.95)])\n",
    "        self.likelihoods = np.array (self.likelihoods).T\n",
    "        \n",
    "    def train2 (self, hamMessages, spamMessages):\n",
    "        self.words = set (' '.join (hamMessages + spamMessages).split())\n",
    "        self.priors = np.zeros (2)\n",
    "        self.priors[0] = float (len (hamMessages)) / (len (hamMessages) + len (spamMessages))\n",
    "        self.priors[1] = 1.0 - self.priors[0]\n",
    "        self.likelihoods = []\n",
    "        spamkeywords = []\n",
    "        for i, w in enumerate (self.words):\n",
    "            prob1 = (1.0 + len ([m for m in hamMessages if w in m])) / len (hamMessages)\n",
    "            prob2 = (1.0 + len ([m for m in spamMessages if w in m])) / len (spamMessages)\n",
    "            if prob1 * 20 < prob2:\n",
    "                self.likelihoods.append ([min (prob1, 0.95), min (prob2, 0.95)])\n",
    "                spamkeywords.append (w)\n",
    "        self.words = spamkeywords\n",
    "        self.likelihoods = np.array (self.likelihoods).T\n",
    "\n",
    "    def predict (self, message):\n",
    "        posteriors = np.copy (self.priors)\n",
    "        for i, w in enumerate (self.words):\n",
    "            if (w not in list_censored_test1):\n",
    "                if w in message.lower(): \n",
    "                    posteriors *= self.likelihoods[:,i]\n",
    "                else:                                   \n",
    "                    posteriors *= np.ones (2) - self.likelihoods[:,i]\n",
    "                posteriors = posteriors / np.linalg.norm (posteriors)  # normalise\n",
    "        if posteriors[0] > 0.5:\n",
    "            return ['ham', posteriors[0]]\n",
    "        return ['spam', posteriors[1]]    \n",
    "\n",
    "    def score (self, messages, labels):\n",
    "        ## | TP | FP |\n",
    "        ## | FN | TN |\n",
    "        confusion = np.zeros(4).reshape (2,2)\n",
    "        for m, l in zip (messages, labels):\n",
    "            if self.predict(m)[0] == 'ham' and l == 'ham':\n",
    "                confusion[0,0] += 1\n",
    "            elif self.predict(m)[0] == 'ham' and l == 'spam':\n",
    "                confusion[0,1] += 1\n",
    "            elif self.predict(m)[0] == 'spam' and l == 'ham':\n",
    "                confusion[1,0] += 1\n",
    "            elif self.predict(m)[0] == 'spam' and l == 'spam':\n",
    "                confusion[1,1] += 1\n",
    "        return (confusion[0,0] + confusion[1,1]) / float (confusion.sum()), confusion"
   ]
  },
  {
   "cell_type": "code",
   "execution_count": 18,
   "metadata": {},
   "outputs": [
    {
     "name": "stdout",
     "output_type": "stream",
     "text": [
      "(0.956, array([[844.,  28.],\n",
      "       [ 16., 112.]]))\n"
     ]
    }
   ],
   "source": [
    "training_ham = list(training_data[training_data.label =='ham'].sms)\n",
    "training_spam = list(training_data[training_data.label =='spam'].sms)\n",
    "\n",
    "#train test1:\n",
    "naive_bayes_test_censored1 = NaiveBayesForSpam_updated_censored1()\n",
    "naive_bayes_test_censored1.train(training_ham, training_spam)\n",
    "confusion_matrix_test_censored1 = naive_bayes_test_censored1.score(validation_data.sms, validation_data.label)\n",
    "print(confusion_matrix_test_censored1)"
   ]
  },
  {
   "cell_type": "code",
   "execution_count": 19,
   "metadata": {},
   "outputs": [],
   "source": [
    "#for list_censored_test2\n",
    "class NaiveBayesForSpam_updated_censored2:\n",
    "    #rewritten the class with changed the predict function:\n",
    "    def train (self, hamMessages, spamMessages):\n",
    "        self.words = set (' '.join (hamMessages + spamMessages).split())\n",
    "        self.priors = np.zeros (2)\n",
    "        self.priors[0] = float (len (hamMessages)) / (len (hamMessages) + len (spamMessages))\n",
    "        self.priors[1] = 1.0 - self.priors[0]\n",
    "        self.likelihoods = []\n",
    "        for i, w in enumerate (self.words):\n",
    "            prob1 = (1.0 + len ([m for m in hamMessages if w in m])) / len (hamMessages)\n",
    "            prob2 = (1.0 + len ([m for m in spamMessages if w in m])) / len (spamMessages)\n",
    "            self.likelihoods.append ([min (prob1, 0.95), min (prob2, 0.95)])\n",
    "        self.likelihoods = np.array (self.likelihoods).T\n",
    "        \n",
    "    def train2 (self, hamMessages, spamMessages):\n",
    "        self.words = set (' '.join (hamMessages + spamMessages).split())\n",
    "        self.priors = np.zeros (2)\n",
    "        self.priors[0] = float (len (hamMessages)) / (len (hamMessages) + len (spamMessages))\n",
    "        self.priors[1] = 1.0 - self.priors[0]\n",
    "        self.likelihoods = []\n",
    "        spamkeywords = []\n",
    "        for i, w in enumerate (self.words):\n",
    "            prob1 = (1.0 + len ([m for m in hamMessages if w in m])) / len (hamMessages)\n",
    "            prob2 = (1.0 + len ([m for m in spamMessages if w in m])) / len (spamMessages)\n",
    "            if prob1 * 20 < prob2:\n",
    "                self.likelihoods.append ([min (prob1, 0.95), min (prob2, 0.95)])\n",
    "                spamkeywords.append (w)\n",
    "        self.words = spamkeywords\n",
    "        self.likelihoods = np.array (self.likelihoods).T\n",
    "\n",
    "    def predict (self, message):\n",
    "        posteriors = np.copy (self.priors)\n",
    "        for i, w in enumerate (self.words):\n",
    "            if (w not in list_censored_test2):\n",
    "                if w in message.lower(): \n",
    "                    posteriors *= self.likelihoods[:,i]\n",
    "                else:                                   \n",
    "                    posteriors *= np.ones (2) - self.likelihoods[:,i]\n",
    "                posteriors = posteriors / np.linalg.norm (posteriors)  # normalise\n",
    "        if posteriors[0] > 0.5:\n",
    "            return ['ham', posteriors[0]]\n",
    "        return ['spam', posteriors[1]]    \n",
    "\n",
    "    def score (self, messages, labels):\n",
    "        ## | TP | FP |\n",
    "        ## | FN | TN |\n",
    "        confusion = np.zeros(4).reshape (2,2)\n",
    "        for m, l in zip (messages, labels):\n",
    "            if self.predict(m)[0] == 'ham' and l == 'ham':\n",
    "                confusion[0,0] += 1\n",
    "            elif self.predict(m)[0] == 'ham' and l == 'spam':\n",
    "                confusion[0,1] += 1\n",
    "            elif self.predict(m)[0] == 'spam' and l == 'ham':\n",
    "                confusion[1,0] += 1\n",
    "            elif self.predict(m)[0] == 'spam' and l == 'spam':\n",
    "                confusion[1,1] += 1\n",
    "        return (confusion[0,0] + confusion[1,1]) / float (confusion.sum()), confusion"
   ]
  },
  {
   "cell_type": "code",
   "execution_count": 20,
   "metadata": {},
   "outputs": [
    {
     "name": "stdout",
     "output_type": "stream",
     "text": [
      "(0.959, array([[849.,  30.],\n",
      "       [ 11., 110.]]))\n"
     ]
    }
   ],
   "source": [
    "#train test2:\n",
    "naive_bayes_test_censored2 = NaiveBayesForSpam_updated_censored2()\n",
    "naive_bayes_test_censored2.train(training_ham, training_spam)\n",
    "confusion_matrix_test_censored2 = naive_bayes_test_censored2.score(validation_data.sms, validation_data.label)\n",
    "print(confusion_matrix_test_censored2)"
   ]
  },
  {
   "cell_type": "markdown",
   "metadata": {},
   "source": [
    "# Question 11"
   ]
  },
  {
   "cell_type": "code",
   "execution_count": 21,
   "metadata": {},
   "outputs": [
    {
     "name": "stdout",
     "output_type": "stream",
     "text": [
      "(0.959, array([[855.,  36.],\n",
      "       [  5., 104.]]))\n"
     ]
    }
   ],
   "source": [
    "# Q11 train2 method\n",
    "\n",
    "#train test1:\n",
    "naive_bayes_test_censored1_train2 = NaiveBayesForSpam_updated_censored1()\n",
    "naive_bayes_test_censored1_train2.train2(training_ham, training_spam)\n",
    "confusion_matrix_test_censored1_train2 = naive_bayes_test_censored1_train2.score(validation_data.sms, validation_data.label)\n",
    "print(confusion_matrix_test_censored1_train2)\n"
   ]
  },
  {
   "cell_type": "code",
   "execution_count": 23,
   "metadata": {},
   "outputs": [
    {
     "name": "stdout",
     "output_type": "stream",
     "text": [
      "(0.961, array([[856.,  35.],\n",
      "       [  4., 105.]]))\n"
     ]
    }
   ],
   "source": [
    "#train test2:\n",
    "naive_bayes_test_censored2_train2  = NaiveBayesForSpam_updated_censored2()\n",
    "naive_bayes_test_censored2_train2 .train2(training_ham, training_spam)\n",
    "confusion_matrix_test_censored2_train2  = naive_bayes_test_censored2_train2 .score(validation_data.sms, validation_data.label)\n",
    "print(confusion_matrix_test_censored2_train2 )"
   ]
  },
  {
   "cell_type": "code",
   "execution_count": null,
   "metadata": {},
   "outputs": [],
   "source": []
  },
  {
   "cell_type": "code",
   "execution_count": null,
   "metadata": {},
   "outputs": [],
   "source": []
  },
  {
   "cell_type": "code",
   "execution_count": null,
   "metadata": {},
   "outputs": [],
   "source": []
  },
  {
   "cell_type": "code",
   "execution_count": null,
   "metadata": {},
   "outputs": [],
   "source": []
  },
  {
   "cell_type": "code",
   "execution_count": null,
   "metadata": {},
   "outputs": [],
   "source": []
  }
 ],
 "metadata": {
  "kernelspec": {
   "display_name": "Python 3",
   "language": "python",
   "name": "python3"
  },
  "language_info": {
   "codemirror_mode": {
    "name": "ipython",
    "version": 3
   },
   "file_extension": ".py",
   "mimetype": "text/x-python",
   "name": "python",
   "nbconvert_exporter": "python",
   "pygments_lexer": "ipython3",
   "version": "3.8.5"
  }
 },
 "nbformat": 4,
 "nbformat_minor": 4
}
