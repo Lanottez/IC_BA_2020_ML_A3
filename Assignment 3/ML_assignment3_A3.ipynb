{
 "cells": [
  {
   "cell_type": "code",
   "execution_count": 1,
   "metadata": {},
   "outputs": [],
   "source": [
    "import pandas as pd\n",
    "import numpy as np\n",
    "import math \n",
    "from sklearn import preprocessing\n",
    "from sklearn.preprocessing import StandardScaler\n",
    "from sklearn.tree import DecisionTreeClassifier\n",
    "from sklearn.ensemble import RandomForestClassifier\n",
    "from sklearn import metrics\n",
    "import matplotlib.pyplot as plt\n",
    "import seaborn as sns\n",
    "from sklearn.utils import shuffle\n",
    "import time"
   ]
  },
  {
   "cell_type": "markdown",
   "metadata": {},
   "source": [
    "# Question 1"
   ]
  },
  {
   "cell_type": "code",
   "execution_count": 100,
   "metadata": {},
   "outputs": [
    {
     "data": {
      "text/html": [
       "<div>\n",
       "<style scoped>\n",
       "    .dataframe tbody tr th:only-of-type {\n",
       "        vertical-align: middle;\n",
       "    }\n",
       "\n",
       "    .dataframe tbody tr th {\n",
       "        vertical-align: top;\n",
       "    }\n",
       "\n",
       "    .dataframe thead th {\n",
       "        text-align: right;\n",
       "    }\n",
       "</style>\n",
       "<table border=\"1\" class=\"dataframe\">\n",
       "  <thead>\n",
       "    <tr style=\"text-align: right;\">\n",
       "      <th></th>\n",
       "      <th>field</th>\n",
       "      <th>selectiveCollege</th>\n",
       "      <th>sex</th>\n",
       "      <th>Default</th>\n",
       "      <th>loanAmount</th>\n",
       "      <th>graduationYear</th>\n",
       "    </tr>\n",
       "  </thead>\n",
       "  <tbody>\n",
       "    <tr>\n",
       "      <th>0</th>\n",
       "      <td>STEM</td>\n",
       "      <td>0</td>\n",
       "      <td>Male</td>\n",
       "      <td>No</td>\n",
       "      <td>22907</td>\n",
       "      <td>2005</td>\n",
       "    </tr>\n",
       "    <tr>\n",
       "      <th>1</th>\n",
       "      <td>HUMANITIES</td>\n",
       "      <td>0</td>\n",
       "      <td>Male</td>\n",
       "      <td>Yes</td>\n",
       "      <td>60087</td>\n",
       "      <td>2010</td>\n",
       "    </tr>\n",
       "    <tr>\n",
       "      <th>2</th>\n",
       "      <td>HUMANITIES</td>\n",
       "      <td>0</td>\n",
       "      <td>Female</td>\n",
       "      <td>No</td>\n",
       "      <td>33149</td>\n",
       "      <td>2011</td>\n",
       "    </tr>\n",
       "    <tr>\n",
       "      <th>3</th>\n",
       "      <td>STEM</td>\n",
       "      <td>1</td>\n",
       "      <td>Female</td>\n",
       "      <td>No</td>\n",
       "      <td>33342</td>\n",
       "      <td>2007</td>\n",
       "    </tr>\n",
       "    <tr>\n",
       "      <th>4</th>\n",
       "      <td>BUSINESS</td>\n",
       "      <td>0</td>\n",
       "      <td>Male</td>\n",
       "      <td>Yes</td>\n",
       "      <td>55834</td>\n",
       "      <td>2013</td>\n",
       "    </tr>\n",
       "    <tr>\n",
       "      <th>...</th>\n",
       "      <td>...</td>\n",
       "      <td>...</td>\n",
       "      <td>...</td>\n",
       "      <td>...</td>\n",
       "      <td>...</td>\n",
       "      <td>...</td>\n",
       "    </tr>\n",
       "    <tr>\n",
       "      <th>1995</th>\n",
       "      <td>BUSINESS</td>\n",
       "      <td>0</td>\n",
       "      <td>Female</td>\n",
       "      <td>No</td>\n",
       "      <td>34862</td>\n",
       "      <td>2006</td>\n",
       "    </tr>\n",
       "    <tr>\n",
       "      <th>1996</th>\n",
       "      <td>HUMANITIES</td>\n",
       "      <td>0</td>\n",
       "      <td>Female</td>\n",
       "      <td>Yes</td>\n",
       "      <td>51527</td>\n",
       "      <td>2008</td>\n",
       "    </tr>\n",
       "    <tr>\n",
       "      <th>1997</th>\n",
       "      <td>STEM</td>\n",
       "      <td>0</td>\n",
       "      <td>Male</td>\n",
       "      <td>No</td>\n",
       "      <td>63594</td>\n",
       "      <td>2012</td>\n",
       "    </tr>\n",
       "    <tr>\n",
       "      <th>1998</th>\n",
       "      <td>BUSINESS</td>\n",
       "      <td>1</td>\n",
       "      <td>Female</td>\n",
       "      <td>No</td>\n",
       "      <td>54822</td>\n",
       "      <td>2006</td>\n",
       "    </tr>\n",
       "    <tr>\n",
       "      <th>1999</th>\n",
       "      <td>BUSINESS</td>\n",
       "      <td>0</td>\n",
       "      <td>Male</td>\n",
       "      <td>No</td>\n",
       "      <td>70776</td>\n",
       "      <td>2009</td>\n",
       "    </tr>\n",
       "  </tbody>\n",
       "</table>\n",
       "<p>2000 rows × 6 columns</p>\n",
       "</div>"
      ],
      "text/plain": [
       "           field  selectiveCollege     sex Default  loanAmount  graduationYear\n",
       "0           STEM                 0    Male      No       22907            2005\n",
       "1     HUMANITIES                 0    Male     Yes       60087            2010\n",
       "2     HUMANITIES                 0  Female      No       33149            2011\n",
       "3           STEM                 1  Female      No       33342            2007\n",
       "4       BUSINESS                 0    Male     Yes       55834            2013\n",
       "...          ...               ...     ...     ...         ...             ...\n",
       "1995    BUSINESS                 0  Female      No       34862            2006\n",
       "1996  HUMANITIES                 0  Female     Yes       51527            2008\n",
       "1997        STEM                 0    Male      No       63594            2012\n",
       "1998    BUSINESS                 1  Female      No       54822            2006\n",
       "1999    BUSINESS                 0    Male      No       70776            2009\n",
       "\n",
       "[2000 rows x 6 columns]"
      ]
     },
     "execution_count": 100,
     "metadata": {},
     "output_type": "execute_result"
    }
   ],
   "source": [
    "loandata = pd.read_csv('loandata.csv') \n",
    "loandata"
   ]
  },
  {
   "cell_type": "markdown",
   "metadata": {},
   "source": [
    "# Question 2-3"
   ]
  },
  {
   "cell_type": "code",
   "execution_count": 29,
   "metadata": {},
   "outputs": [],
   "source": [
    "\n",
    "loandata_shuffled = shuffle(loandata)\n",
    "\n",
    "training_data = loandata_shuffled[0:1000]\n",
    "validation_data = loandata_shuffled[1000:1500]\n",
    "test_data = loandata_shuffled[1500:2000]\n",
    "\n",
    "training_data_x = training_data.drop(columns = ['Default'])\n",
    "training_data_x_dummy = pd.get_dummies(training_data_x)\n",
    "training_data_y = training_data.Default\n",
    "\n",
    "validation_data_x = validation_data.drop(columns = ['Default'])\n",
    "validation_data_x_dummy = pd.get_dummies(validation_data_x)\n",
    "validation_data_y = validation_data.Default\n",
    "\n",
    "test_data_x = test_data.drop(columns = ['Default'])\n",
    "test_data_x_dummy = pd.get_dummies(test_data_x)\n",
    "test_data_y = test_data.Default"
   ]
  },
  {
   "cell_type": "markdown",
   "metadata": {},
   "source": [
    "# Question 4"
   ]
  },
  {
   "cell_type": "code",
   "execution_count": 106,
   "metadata": {},
   "outputs": [
    {
     "data": {
      "text/plain": [
       "828      No\n",
       "411     Yes\n",
       "498      No\n",
       "673      No\n",
       "1770    Yes\n",
       "       ... \n",
       "1274    Yes\n",
       "1637     No\n",
       "265      No\n",
       "446      No\n",
       "463      No\n",
       "Name: Default, Length: 500, dtype: object"
      ]
     },
     "execution_count": 106,
     "metadata": {},
     "output_type": "execute_result"
    }
   ],
   "source": [
    "#?\n"
   ]
  },
  {
   "cell_type": "markdown",
   "metadata": {},
   "source": [
    "# Question 5 "
   ]
  },
  {
   "cell_type": "code",
   "execution_count": 97,
   "metadata": {},
   "outputs": [
    {
     "name": "stdout",
     "output_type": "stream",
     "text": [
      "The best maximum depth is 3 , while the best score is 0.874\n",
      "The accuracy rate of using this classifier to predict training data is 0.876\n",
      "The accuracy rate of using this classifier to predict validation data is 0.874\n",
      "The accuracy rate of using this classifier to predict test data is 0.866\n"
     ]
    }
   ],
   "source": [
    "#6\n",
    "clf = DecisionTreeClassifier() # \n",
    "clf.fit(training_data_x_dummy,training_data_y)\n",
    "max_depth = clf.get_depth()\n",
    "best_depth = 0\n",
    "best_score = 0\n",
    "for depth in range(1,1000):\n",
    "    clf = DecisionTreeClassifier(max_depth=depth) \n",
    "    clf.fit(training_data_x_dummy,training_data_y)\n",
    "    if best_score < clf.score(validation_data_x_dummy,validation_data_y):\n",
    "        best_score = clf.score(validation_data_x_dummy,validation_data_y)\n",
    "        best_depth = depth\n",
    "print('The best maximum depth is',best_depth,', while the best score is',best_score)\n",
    "clf = DecisionTreeClassifier(max_depth=best_depth)\n",
    "clf.fit(training_data_x_dummy,training_data_y)\n",
    "\n",
    "score_training = clf.score(training_data_x_dummy,training_data_y)\n",
    "print('The accuracy rate of using this classifier to predict training data is',score_training)\n",
    "\n",
    "score_validation = clf.score(validation_data_x_dummy,validation_data_y)\n",
    "print('The accuracy rate of using this classifier to predict validation data is',score_validation)\n",
    "\n",
    "score_test = clf.score(test_data_x_dummy,test_data_y)\n",
    "print('The accuracy rate of using this classifier to predict test data is',score_test)\n",
    "\n"
   ]
  },
  {
   "cell_type": "code",
   "execution_count": 98,
   "metadata": {},
   "outputs": [
    {
     "name": "stdout",
     "output_type": "stream",
     "text": [
      "The best max_depth that achieve highest accuracy rate for training data is 19 . This corresponding accuracy rate is  1.0\n",
      "The validation accuracy with depth=19 is 0.832 , which is lower than what we have previously. This is due to over-fitting problem\n",
      "In general, the deeper you allow your tree to grow, the more complex your model will become because you will have more splits and it captures more information about the data \n",
      "However this means that your model will fit perfectly good with training data, but will not generate good prediction for testing. Hence we should use validation dataset to determine the proper max_depth of the model\n"
     ]
    }
   ],
   "source": [
    "# Q5 explanation\n",
    "# to calculate defalut max_depth, and corresponding accuracy rate for training set\n",
    "alf = DecisionTreeClassifier() # \n",
    "alf.fit(training_data_x_dummy,training_data_y)\n",
    "alf.get_depth()\n",
    "\n",
    "best_score_training = alf.score(training_data_x_dummy,training_data_y)\n",
    "best_depth_training = alf.get_depth()\n",
    "print('The best max_depth that achieve highest accuracy rate for training data is',best_depth_training, \". This corresponding accuracy rate is \",best_score_training )\n",
    "\n",
    "# use the default max_depth to calculate accuracy rate for validation set\n",
    "DecTree = DecisionTreeClassifier(max_depth=19) \n",
    "DecTree.fit(training_data_x_dummy, training_data_y)\n",
    "validation_Score=DecTree.score(validation_data_x_dummy,validation_data_y)\n",
    "\n",
    "print('The validation accuracy with depth=19 is',validation_Score,\", which is lower than what we have previously. This is due to over-fitting problem\")\n",
    "print(\"In general, the deeper you allow your tree to grow, the more complex your model will become because you will have more splits and it captures more information about the data \")\n",
    "print(\"However this means that your model will fit perfectly good with training data, but will not generate good prediction for testing. Hence we should use validation dataset to determine the proper max_depth of the model\")"
   ]
  },
  {
   "cell_type": "markdown",
   "metadata": {},
   "source": [
    "# Question 6"
   ]
  },
  {
   "cell_type": "code",
   "execution_count": 110,
   "metadata": {},
   "outputs": [
    {
     "data": {
      "text/plain": [
       "<matplotlib.legend.Legend at 0x20f5385e160>"
      ]
     },
     "execution_count": 110,
     "metadata": {},
     "output_type": "execute_result"
    },
    {
     "data": {
      "image/png": "[encoded data removed]",
      "text/plain": [
       "<Figure size 432x288 with 1 Axes>"
      ]
     },
     "metadata": {
      "needs_background": "light"
     },
     "output_type": "display_data"
    }
   ],
   "source": [
    "estimator_list = np.arange(1,100, 5).tolist()\n",
    "scores_list_training = []\n",
    "scores_list_validation = []\n",
    "training_time = []\n",
    "for k in estimator_list:\n",
    "    clf = RandomForestClassifier(n_estimators=k)\n",
    "    start = time.time()\n",
    "    clf.fit(training_data_x_dummy, training_data_y)\n",
    "    end = time.time()\n",
    "    scores_list_training.append(clf.score(training_data_x_dummy,training_data_y))\n",
    "    scores_list_validation.append(clf.score(validation_data_x_dummy,validation_data_y))\n",
    "    training_time.append(end-start)\n",
    "scores_list_df = pd.DataFrame(data=estimator_list,columns=['Number of Estimator'])\n",
    "scores_list_df['Score of training data'] = scores_list_training\n",
    "scores_list_df['Score of validation data'] = scores_list_validation\n",
    "scores_list_df['Training time'] = training_time\n",
    "plt.plot(scores_list_df['Number of Estimator'], scores_list_df['Score of training data'], label = \"Validation Data\")\n",
    "plt.plot(scores_list_df['Number of Estimator'], scores_list_df['Score of validation data'], label = \"Training Data\")\n",
    "plt.title('Accuracy of Prediction')\n",
    "plt.xlabel('Number of Estimator')\n",
    "plt.ylabel('Accuracy(%)')\n",
    "plt.legend()"
   ]
  },
  {
   "cell_type": "markdown",
   "metadata": {},
   "source": [
    "# Question 7"
   ]
  },
  {
   "cell_type": "code",
   "execution_count": 111,
   "metadata": {},
   "outputs": [
    {
     "data": {
      "text/plain": [
       "<matplotlib.legend.Legend at 0x20f596e97c0>"
      ]
     },
     "execution_count": 111,
     "metadata": {},
     "output_type": "execute_result"
    },
    {
     "data": {
      "image/png": "[encoded data removed]",
      "text/plain": [
       "<Figure size 432x288 with 1 Axes>"
      ]
     },
     "metadata": {
      "needs_background": "light"
     },
     "output_type": "display_data"
    }
   ],
   "source": [
    "plt.plot(scores_list_df['Number of Estimator'], scores_list_df['Training time'], label = \"Training time\")\n",
    "plt.title('Training Time vs The number of Estimators')\n",
    "plt.xlabel('Number of Estimator')\n",
    "plt.ylabel('Training Time(s)')\n",
    "plt.legend()"
   ]
  },
  {
   "cell_type": "code",
   "execution_count": 109,
   "metadata": {},
   "outputs": [
    {
     "data": {
      "text/plain": [
       "[1, 6, 11, 16, 21, 26, 31, 36, 41, 46, 51, 56, 61, 66, 71, 76, 81, 86, 91, 96]"
      ]
     },
     "execution_count": 109,
     "metadata": {},
     "output_type": "execute_result"
    }
   ],
   "source": []
  }
 ],
 "metadata": {
  "kernelspec": {
   "display_name": "Python 3",
   "language": "python",
   "name": "python3"
  },
  "language_info": {
   "codemirror_mode": {
    "name": "ipython",
    "version": 3
   },
   "file_extension": ".py",
   "mimetype": "text/x-python",
   "name": "python",
   "nbconvert_exporter": "python",
   "pygments_lexer": "ipython3",
   "version": "3.8.3"
  }
 },
 "nbformat": 4,
 "nbformat_minor": 4
}
